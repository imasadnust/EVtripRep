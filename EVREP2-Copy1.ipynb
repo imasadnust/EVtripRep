{
 "cells": [
  {
   "cell_type": "code",
   "execution_count": null,
   "metadata": {
    "ExecuteTime": {
     "end_time": "2021-01-15T06:17:20.078736Z",
     "start_time": "2021-01-15T06:17:13.041250Z"
    }
   },
   "outputs": [],
   "source": [
    "#%matplotlib notebook\n",
    "import numpy as np\n",
    "from scipy.stats import genexpon\n",
    "import matplotlib.pyplot as plt\n",
    "from numpy.random import RandomState\n",
    "import pandas as pd\n",
    "import datetime\n",
    "import openqtsim"
   ]
  },
  {
   "cell_type": "markdown",
   "metadata": {},
   "source": [
    "# EV Ratios"
   ]
  },
  {
   "cell_type": "code",
   "execution_count": null,
   "metadata": {
    "ExecuteTime": {
     "end_time": "2021-01-15T06:17:38.183189Z",
     "start_time": "2021-01-15T06:17:38.177228Z"
    }
   },
   "outputs": [],
   "source": [
    "Total_EV_Number = 300\n",
    "EV_Number_Com_Feeder = int(Total_EV_Number * 0.9) #90%\n",
    "EV_Number_Res_Feeder = int(Total_EV_Number * 0.1) #10%\n",
    "\n",
    "# Commercial Feeder\n",
    "EV_Number_Com_Feeder_Mor_Arr = int(EV_Number_Com_Feeder * 0.6) #60%\n",
    "EV_Number_Com_Feeder_Even_Arr = int(EV_Number_Com_Feeder * 0.4) #40%\n",
    "\n",
    "BEV_Number_Com_Feeder = int(EV_Number_Com_Feeder * 0.4) #40%\n",
    "PHEV_Number_Com_Feeder = int(EV_Number_Com_Feeder * 0.6) #60%\n",
    "\n",
    "# Residential Feeder\n",
    "EV_Number_Res_Feeder_Even_Arr = int(EV_Number_Res_Feeder * 1) #100%\n",
    "\n",
    "BEV_Number_Res_Feeder = int(EV_Number_Res_Feeder * 0.4) #40%\n",
    "PHEV_Number_Res_Feeder = int(EV_Number_Res_Feeder * 0.6) #60%\n",
    "\n"
   ]
  },
  {
   "cell_type": "markdown",
   "metadata": {},
   "source": [
    "# Data Generator (Commercial Arrival/Departure)"
   ]
  },
  {
   "cell_type": "markdown",
   "metadata": {},
   "source": [
    "## Morning Arrival Commercial Feeders"
   ]
  },
  {
   "cell_type": "code",
   "execution_count": null,
   "metadata": {
    "ExecuteTime": {
     "end_time": "2021-01-15T06:17:41.182754Z",
     "start_time": "2021-01-15T06:17:40.784487Z"
    }
   },
   "outputs": [],
   "source": [
    "from scipy.stats import genextreme\n",
    "\n",
    "genloc=8.9068    #Shift\n",
    "genscale=0.5492  #Scale\n",
    "genc=0.0629  #Shape\n",
    "\n",
    "x = np.linspace(genextreme.ppf(0.01, genc,loc=genloc,scale=genscale),\n",
    "                genextreme.ppf(0.99, genc,loc=genloc,scale=genscale), 100)\n",
    "\n",
    "genvalmarr = genextreme.rvs(genc, loc = genloc, scale=genscale, size=EV_Number_Com_Feeder_Mor_Arr)\n",
    "plt.figure()\n",
    "fig, ax = plt.subplots(1, 1)\n",
    "ax.plot(x, genextreme.pdf(x, genc,loc=genloc,scale=genscale),\n",
    "       'r-', lw=5, alpha=0.6, label='genextreme pdf')\n",
    "ax.hist(genvalmarr, density=True, histtype='stepfilled', alpha=0.2)\n",
    "ax.legend(loc='best', frameon=False)\n",
    "plt.show()\n",
    "plt.figure()\n",
    "plt.plot(genvalmarr)\n",
    "plt.show()"
   ]
  },
  {
   "cell_type": "markdown",
   "metadata": {},
   "source": [
    "## Evening Arrivals Commercial feeders "
   ]
  },
  {
   "cell_type": "code",
   "execution_count": null,
   "metadata": {
    "ExecuteTime": {
     "end_time": "2021-01-15T06:17:42.699898Z",
     "start_time": "2021-01-15T06:17:42.488458Z"
    }
   },
   "outputs": [],
   "source": [
    "from scipy.stats import weibull_min\n",
    "\n",
    "genscale3= 16.0386 #Scale 16.0386 \n",
    "genc3=18.0225  #Shape 18.0225\n",
    "x3 = np.linspace(weibull_min.ppf(0.01, genc3 ,scale=genscale3),\n",
    "                weibull_min.ppf(0.99, genc3 ,scale=genscale3), 100)\n",
    "\n",
    "WeibullValEvnArr = weibull_min.rvs(genc3, scale=genscale3, size=EV_Number_Com_Feeder_Even_Arr)\n",
    "plt.figure()\n",
    "fig, ax = plt.subplots(1, 1)\n",
    "ax.plot(x3, weibull_min.pdf(x3, genc3,scale=genscale3),\n",
    "       'r-', lw=5, alpha=0.6, label='Weibull pdf')\n",
    "ax.hist(WeibullValEvnArr, density=True, histtype='stepfilled', alpha=0.2)\n",
    "ax.legend(loc='best', frameon=False)\n",
    "plt.show()\n",
    "plt.figure()\n",
    "plt.plot(WeibullValEvnArr)\n",
    "plt.show()"
   ]
  },
  {
   "cell_type": "markdown",
   "metadata": {},
   "source": [
    "# Data Generator (Residential Arrival/Departure)"
   ]
  },
  {
   "cell_type": "markdown",
   "metadata": {},
   "source": [
    "## Evening Arrival Residential feeder "
   ]
  },
  {
   "cell_type": "code",
   "execution_count": null,
   "metadata": {
    "ExecuteTime": {
     "end_time": "2021-01-15T06:17:44.233554Z",
     "start_time": "2021-01-15T06:17:44.024048Z"
    }
   },
   "outputs": [],
   "source": [
    "from scipy.stats import genextreme\n",
    "\n",
    "genloc4= 13.7393    #Shift\n",
    "genscale4= 0.5129 #Scale\n",
    "genc4= 0.0631 #Shape\n",
    "\n",
    "x4 = np.linspace(genextreme.ppf(0.01, genc4 ,loc=genloc4 ,scale=genscale4),\n",
    "                genextreme.ppf(0.99, genc4 ,loc=genloc4,scale=genscale4), 100)\n",
    "\n",
    "genvalEvArr = genextreme.rvs(genc4, loc = genloc4, scale=genscale4, size=EV_Number_Res_Feeder_Even_Arr)\n",
    "plt.figure()\n",
    "fig, ax = plt.subplots(1, 1)\n",
    "ax.plot(x4, genextreme.pdf(x4, genc4,loc=genloc4,scale=genscale4),\n",
    "       'r-', lw=5, alpha=0.6, label='genextreme pdf')\n",
    "ax.hist(genvalEvArr, density=True, histtype='stepfilled', alpha=0.2)\n",
    "ax.legend(loc='best', frameon=False)\n",
    "plt.show()\n",
    "plt.figure()\n",
    "plt.plot(genvalEvArr)\n",
    "plt.show()"
   ]
  },
  {
   "cell_type": "markdown",
   "metadata": {},
   "source": [
    "# Data Generator (Commercial/Residential Travel Distance)"
   ]
  },
  {
   "cell_type": "code",
   "execution_count": null,
   "metadata": {
    "ExecuteTime": {
     "end_time": "2021-01-11T10:37:36.571533Z",
     "start_time": "2021-01-11T10:37:36.365654Z"
    }
   },
   "outputs": [],
   "source": [
    "from scipy.stats import genextreme\n",
    "\n",
    "genloc6= 15.8820\n",
    "genscale6= 7.9015 \n",
    "genc6= 0.00474\n",
    "\n",
    "x6 = np.linspace(genextreme.ppf(0.01, genc6 ,loc=genloc6 ,scale=genscale6),\n",
    "                genextreme.ppf(0.99, genc6 ,loc=genloc6,scale=genscale6), 100)\n",
    "\n",
    "genvalDistance= genextreme.rvs(genc6, loc = genloc6, scale=genscale6, size=Total_EV_Number)\n",
    "#genvalDistance=pd.Series((genvalDistance/1.609))\n",
    "#genvalDistance=genvalDistance.round(decimals=2)\n",
    "plt.figure()\n",
    "fig, ax = plt.subplots(1, 1)\n",
    "ax.plot(x6, genextreme.pdf(x6, genc6,loc=genloc6,scale=genscale6),\n",
    "       'r-', lw=5, alpha=0.6, label='genextreme pdf')\n",
    "ax.hist(genvalDistance, density=True, histtype='stepfilled', alpha=0.2)\n",
    "ax.legend(loc='best', frameon=False)\n",
    "plt.show()\n",
    "plt.figure()\n",
    "plt.plot(genvalDistance)\n",
    "plt.show()"
   ]
  },
  {
   "cell_type": "markdown",
   "metadata": {},
   "source": [
    "# Data Frame Creation"
   ]
  },
  {
   "cell_type": "code",
   "execution_count": null,
   "metadata": {
    "ExecuteTime": {
     "end_time": "2021-01-11T10:37:37.422655Z",
     "start_time": "2021-01-11T10:37:37.413656Z"
    }
   },
   "outputs": [],
   "source": [
    "# Convert the numbers into datetime.time\n",
    "def number_to_datetime(number):\n",
    "    if not isinstance(number[-1], datetime.time):#isinstance is for comparing datatype\n",
    "        result=[]\n",
    "        for val in number:\n",
    "            temp = str(datetime.timedelta(hours=val))\n",
    "            result.append(temp)\n",
    "        del number\n",
    "        number = pd.to_datetime(result, format='%H:%M:%S.%f').time\n",
    "    return number\n",
    "\n",
    "genvalmarr = number_to_datetime(genvalmarr)\n",
    "WeibullValEvnArr = number_to_datetime(WeibullValEvnArr)\n",
    "genvalEvArr = number_to_datetime(genvalEvArr)"
   ]
  },
  {
   "cell_type": "code",
   "execution_count": null,
   "metadata": {
    "ExecuteTime": {
     "end_time": "2021-01-11T10:37:38.052603Z",
     "start_time": "2021-01-11T10:37:37.974648Z"
    }
   },
   "outputs": [],
   "source": [
    "Arrival_Times = genvalmarr\n",
    "Arrival_Times=np.append(Arrival_Times,WeibullValEvnArr)\n",
    "Arrival_Times=np.append(Arrival_Times,genvalEvArr)\n",
    "\n",
    "df=pd.DataFrame({'Arrival Time': Arrival_Times,\n",
    "                 'Distance Traveled': genvalDistance,  \n",
    "                })\n",
    "\n",
    "df[\"Feeder\"] = np.nan\n",
    "df[\"Feeder\"] = df[\"Feeder\"].loc[0:genvalmarr.shape[0]+WeibullValEvnArr.shape[0]].fillna(\"Commercial\")\n",
    "df[\"Feeder\"] = df[\"Feeder\"].fillna(\"Residential\")\n",
    "\n",
    "df[\"Time of Day\"] = np.nan\n",
    "df[\"Time of Day\"] = df[\"Time of Day\"].loc[0:genvalmarr.shape[0]].fillna(\"Morning\")\n",
    "df[\"Time of Day\"] = df[\"Time of Day\"].fillna(\"Evening\")\n",
    "\n",
    "df.to_excel('EVbehaviour.xlsx')"
   ]
  },
  {
   "cell_type": "markdown",
   "metadata": {},
   "source": [
    "# Merge PowerTrain Simulations with Probability Data "
   ]
  },
  {
   "cell_type": "markdown",
   "metadata": {},
   "source": [
    "## (BEVs) Commercial @ UDDS"
   ]
  },
  {
   "cell_type": "code",
   "execution_count": null,
   "metadata": {
    "ExecuteTime": {
     "end_time": "2021-01-11T10:37:40.209499Z",
     "start_time": "2021-01-11T10:37:40.205516Z"
    }
   },
   "outputs": [],
   "source": [
    "Total_BEV_Data = 6\n",
    "# Commercial Feeder\n",
    "Samples_Per_BEV_Commercial = int(BEV_Number_Com_Feeder/Total_BEV_Data)\n",
    "# Residential Feeder\n",
    "Samples_Per_BEV_Residential = int(BEV_Number_Res_Feeder/Total_BEV_Data)"
   ]
  },
  {
   "cell_type": "code",
   "execution_count": null,
   "metadata": {
    "ExecuteTime": {
     "end_time": "2021-01-11T10:37:53.317493Z",
     "start_time": "2021-01-11T10:37:41.111500Z"
    },
    "code_folding": []
   },
   "outputs": [],
   "source": [
    "# BEV 1\n",
    "dfv = pd.read_excel('(BEV) Full Discharge 2016 CHEVROLET Spark EV UDDS.xlsx',\n",
    "                    index_col=0)\n",
    "dfv['distance'] = dfv['distance'] * 1.609  # Convert miles to km\n",
    "maxEnergy = dfv.essCurKwh[0]\n",
    "dfv['ChgEnergyReq'] = maxEnergy - dfv['essCurKwh']\n",
    "del dfv['mpsAch']\n",
    "del dfv['essKwOutAch']\n",
    "del dfv['speed']\n",
    "# Use the distance from generated data and find closest distance in\n",
    "# powertrain simulations, merge the resulting DataFrame to the main\n",
    "# DataFrame to Get SOC on the respective random distance.\n",
    "tempind = []\n",
    "for inter, x in enumerate(\n",
    "        df['Distance Traveled'].loc[0:Samples_Per_BEV_Commercial - 1]):\n",
    "    tempind.append(dfv['distance'].sub(x).abs().idxmin())\n",
    "\n",
    "dfv = dfv.loc[tempind]\n",
    "dfv = dfv.reset_index()\n",
    "del dfv['index']\n",
    "dfv[\"Type of EV\"] = \"BEV\"\n",
    "dfv[\"Model\"] = \"2016 CHEVROLET Spark EV\"\n",
    "\n",
    "df_BEV_Commercial_1 = df.loc[0:Samples_Per_BEV_Commercial -\n",
    "                             1].reset_index(drop=True).join(dfv)\n",
    "\n",
    "# BEV 2\n",
    "dfv = pd.read_excel('(BEV) Full Discharge 2016 Leaf 24 kWh UDDS.xlsx',\n",
    "                    index_col=0)\n",
    "dfv['distance'] = dfv['distance'] * 1.609  # Convert miles to km\n",
    "maxEnergy = dfv.essCurKwh[0]\n",
    "dfv['ChgEnergyReq'] = maxEnergy - dfv['essCurKwh']\n",
    "del dfv['mpsAch']\n",
    "del dfv['essKwOutAch']\n",
    "del dfv['speed']\n",
    "# Use the distance from generated data and find closest distance in\n",
    "# powertrain simulations, merge the resulting DataFrame to the main\n",
    "# DataFrame to Get SOC on the respective random distance.\n",
    "tempind = []\n",
    "for inter, x in enumerate(\n",
    "        df['Distance Traveled'].\n",
    "        loc[Samples_Per_BEV_Commercial:Samples_Per_BEV_Commercial * 2 - 1]):\n",
    "    tempind.append(dfv['distance'].sub(x).abs().idxmin())\n",
    "\n",
    "dfv = dfv.loc[tempind]\n",
    "dfv = dfv.reset_index()\n",
    "del dfv['index']\n",
    "dfv[\"Type of EV\"] = \"BEV\"\n",
    "dfv[\"Model\"] = \"2016 Nissan Leaf 24kWh\"\n",
    "\n",
    "df_BEV_Commercial_2 = df.loc[\n",
    "    Samples_Per_BEV_Commercial:Samples_Per_BEV_Commercial * 2 -\n",
    "    1].reset_index(drop=True).join(dfv)\n",
    "\n",
    "# BEV 3\n",
    "dfv = pd.read_excel('(BEV) Full Discharge 2016 MITSUBISHI i-MiEV UDDS.xlsx',\n",
    "                    index_col=0)\n",
    "dfv['distance'] = dfv['distance'] * 1.609  # Convert miles to km\n",
    "maxEnergy = dfv.essCurKwh[0]\n",
    "dfv['ChgEnergyReq'] = maxEnergy - dfv['essCurKwh']\n",
    "del dfv['mpsAch']\n",
    "del dfv['essKwOutAch']\n",
    "del dfv['speed']\n",
    "# Use the distance from generated data and find closest distance in\n",
    "# powertrain simulations, merge the resulting DataFrame to the main\n",
    "# DataFrame to Get SOC on the respective random distance.\n",
    "tempind = []\n",
    "for inter, x in enumerate(\n",
    "        df['Distance Traveled'].loc[Samples_Per_BEV_Commercial *\n",
    "                                    2:Samples_Per_BEV_Commercial * 3 - 1]):\n",
    "    tempind.append(dfv['distance'].sub(x).abs().idxmin())\n",
    "\n",
    "dfv = dfv.loc[tempind]\n",
    "dfv = dfv.reset_index()\n",
    "del dfv['index']\n",
    "dfv[\"Type of EV\"] = \"BEV\"\n",
    "dfv[\"Model\"] = \"2016 MITSUBISHI i-MiEV\"\n",
    "\n",
    "df_BEV_Commercial_3 = df.loc[Samples_Per_BEV_Commercial *\n",
    "                             2:Samples_Per_BEV_Commercial * 3 -\n",
    "                             1].reset_index(drop=True).join(dfv)\n",
    "\n",
    "# BEV 4\n",
    "dfv = pd.read_excel('(BEV) Full Discharge 2016 Nissan Leaf 30 kWh UDDS.xlsx',\n",
    "                    index_col=0)\n",
    "dfv['distance'] = dfv['distance'] * 1.609  # Convert miles to km\n",
    "maxEnergy = dfv.essCurKwh[0]\n",
    "dfv['ChgEnergyReq'] = maxEnergy - dfv['essCurKwh']\n",
    "del dfv['mpsAch']\n",
    "del dfv['essKwOutAch']\n",
    "del dfv['speed']\n",
    "# Use the distance from generated data and find closest distance in\n",
    "# powertrain simulations, merge the resulting DataFrame to the main\n",
    "# DataFrame to Get SOC on the respective random distance.\n",
    "tempind = []\n",
    "for inter, x in enumerate(\n",
    "        df['Distance Traveled'].loc[Samples_Per_BEV_Commercial *\n",
    "                                    3:Samples_Per_BEV_Commercial * 4 - 1]):\n",
    "    tempind.append(dfv['distance'].sub(x).abs().idxmin())\n",
    "\n",
    "dfv = dfv.loc[tempind]\n",
    "dfv = dfv.reset_index()\n",
    "del dfv['index']\n",
    "dfv[\"Type of EV\"] = \"BEV\"\n",
    "dfv[\"Model\"] = \"2016 Nissan Leaf 30 kWh\"\n",
    "\n",
    "df_BEV_Commercial_4 = df.loc[Samples_Per_BEV_Commercial *\n",
    "                             3:Samples_Per_BEV_Commercial * 4 -\n",
    "                             1].reset_index(drop=True).join(dfv)\n",
    "\n",
    "# BEV 5\n",
    "dfv = pd.read_excel('(BEV) Full Discharge 2016 TESLA Model S60 2WD UDDS.xlsx',\n",
    "                    index_col=0)\n",
    "dfv['distance'] = dfv['distance'] * 1.609  # Convert miles to km\n",
    "maxEnergy = dfv.essCurKwh[0]\n",
    "dfv['ChgEnergyReq'] = maxEnergy - dfv['essCurKwh']\n",
    "del dfv['mpsAch']\n",
    "del dfv['essKwOutAch']\n",
    "del dfv['speed']\n",
    "# Use the distance from generated data and find closest distance in\n",
    "# powertrain simulations, merge the resulting DataFrame to the main\n",
    "# DataFrame to Get SOC on the respective random distance.\n",
    "tempind = []\n",
    "for inter, x in enumerate(\n",
    "        df['Distance Traveled'].loc[Samples_Per_BEV_Commercial *\n",
    "                                    4:Samples_Per_BEV_Commercial * 5 - 1]):\n",
    "    tempind.append(dfv['distance'].sub(x).abs().idxmin())\n",
    "\n",
    "dfv = dfv.loc[tempind]\n",
    "dfv = dfv.reset_index()\n",
    "del dfv['index']\n",
    "dfv[\"Type of EV\"] = \"BEV\"\n",
    "dfv[\"Model\"] = \"2016 TESLA Model S60 2WD\"\n",
    "\n",
    "df_BEV_Commercial_5 = df.loc[Samples_Per_BEV_Commercial *\n",
    "                             4:Samples_Per_BEV_Commercial * 5 -\n",
    "                             1].reset_index(drop=True).join(dfv)\n",
    "\n",
    "# BEV 6\n",
    "dfv = pd.read_excel('(BEV) Full Discharge 2017 CHEVROLET Bolt UDDS.xlsx',\n",
    "                    index_col=0)\n",
    "dfv['distance'] = dfv['distance'] * 1.609  # Convert miles to km\n",
    "maxEnergy = dfv.essCurKwh[0]\n",
    "dfv['ChgEnergyReq'] = maxEnergy - dfv['essCurKwh']\n",
    "del dfv['mpsAch']\n",
    "del dfv['essKwOutAch']\n",
    "del dfv['speed']\n",
    "# Use the distance from generated data and find closest distance in\n",
    "# powertrain simulations, merge the resulting DataFrame to the main\n",
    "# DataFrame to Get SOC on the respective random distance.\n",
    "tempind = []\n",
    "for inter, x in enumerate(\n",
    "        df['Distance Traveled'].loc[Samples_Per_BEV_Commercial *\n",
    "                                    5:Samples_Per_BEV_Commercial * 6 - 1]):\n",
    "    tempind.append(dfv['distance'].sub(x).abs().idxmin())\n",
    "\n",
    "dfv = dfv.loc[tempind]\n",
    "dfv = dfv.reset_index()\n",
    "del dfv['index']\n",
    "dfv[\"Type of EV\"] = \"BEV\"\n",
    "dfv[\"Model\"] = \"2017 CHEVROLET Bolt\"\n",
    "\n",
    "df_BEV_Commercial_6 = df.loc[Samples_Per_BEV_Commercial *\n",
    "                             5:Samples_Per_BEV_Commercial * 6 -\n",
    "                             1].reset_index(drop=True).join(dfv)\n",
    "\n",
    "df_BEV_Commercial = pd.concat([\n",
    "    df_BEV_Commercial_1, df_BEV_Commercial_2, df_BEV_Commercial_3,\n",
    "    df_BEV_Commercial_4, df_BEV_Commercial_5, df_BEV_Commercial_6\n",
    "],\n",
    "                              ignore_index=True)"
   ]
  },
  {
   "cell_type": "markdown",
   "metadata": {},
   "source": [
    "## (PHEV) Commercial @ UDDS"
   ]
  },
  {
   "cell_type": "code",
   "execution_count": null,
   "metadata": {
    "ExecuteTime": {
     "end_time": "2021-01-11T10:37:53.506989Z",
     "start_time": "2021-01-11T10:37:53.503996Z"
    }
   },
   "outputs": [],
   "source": [
    "Total_PHEV_Data = 5\n",
    "# Commercial Feeder\n",
    "Samples_Per_PHEV_Commercial = int(PHEV_Number_Com_Feeder/Total_PHEV_Data)\n",
    "# Residential Feeder\n",
    "Samples_Per_PHEV_Residential = int(PHEV_Number_Res_Feeder/Total_PHEV_Data)"
   ]
  },
  {
   "cell_type": "code",
   "execution_count": null,
   "metadata": {
    "ExecuteTime": {
     "end_time": "2021-01-11T10:38:18.746096Z",
     "start_time": "2021-01-11T10:37:53.705457Z"
    }
   },
   "outputs": [],
   "source": [
    "Base_index = df_BEV_Commercial.shape[0]\n",
    "# PHEV 1\n",
    "dfv = pd.read_excel('(PHEV) Full Discharge 2016 BMW i3 REx PHEV UDDS.xlsx',\n",
    "                    index_col=0)\n",
    "dfv['distance'] = dfv['distance'] * 1.609  # Convert miles to km\n",
    "maxEnergy = dfv.essCurKwh[0]\n",
    "dfv['ChgEnergyReq'] = maxEnergy - dfv['essCurKwh']\n",
    "del dfv['mpsAch']\n",
    "del dfv['essKwOutAch']\n",
    "del dfv['speed']\n",
    "# Use the distance from generated data and find closest distance in\n",
    "# powertrain simulations, merge the resulting DataFrame to the main\n",
    "# DataFrame to Get SOC on the respective random distance.\n",
    "tempind = []\n",
    "for inter, x in enumerate(\n",
    "        df['Distance Traveled'].loc[Base_index:Base_index+Samples_Per_PHEV_Commercial - 1]):\n",
    "    tempind.append(dfv['distance'].sub(x).abs().idxmin())\n",
    "\n",
    "dfv = dfv.loc[tempind]\n",
    "dfv = dfv.reset_index()\n",
    "del dfv['index']\n",
    "dfv[\"Type of EV\"] = \"PHEV\"\n",
    "dfv[\"Model\"] = \"2016 BMW i3 REx PHEV\"\n",
    "\n",
    "df_PHEV_Commercial_1 = df.loc[Base_index:Base_index+Samples_Per_PHEV_Commercial -\n",
    "                             1].reset_index(drop=True).join(dfv)\n",
    "\n",
    "# PHEV 2\n",
    "dfv = pd.read_excel('(PHEV) Full Discharge 2016 CHEVROLET Volt UDDS.xlsx',\n",
    "                    index_col=0)\n",
    "dfv['distance'] = dfv['distance'] * 1.609  # Convert miles to km\n",
    "maxEnergy = dfv.essCurKwh[0]\n",
    "dfv['ChgEnergyReq'] = maxEnergy - dfv['essCurKwh']\n",
    "del dfv['mpsAch']\n",
    "del dfv['essKwOutAch']\n",
    "del dfv['speed']\n",
    "# Use the distance from generated data and find closest distance in\n",
    "# powertrain simulations, merge the resulting DataFrame to the main\n",
    "# DataFrame to Get SOC on the respective random distance.\n",
    "tempind = []\n",
    "for inter, x in enumerate(\n",
    "        df['Distance Traveled'].\n",
    "        loc[Base_index+Samples_Per_PHEV_Commercial:Base_index+Samples_Per_PHEV_Commercial * 2 - 1]):\n",
    "    tempind.append(dfv['distance'].sub(x).abs().idxmin())\n",
    "\n",
    "dfv = dfv.loc[tempind]\n",
    "dfv = dfv.reset_index()\n",
    "del dfv['index']\n",
    "dfv[\"Type of EV\"] = \"PHEV\"\n",
    "dfv[\"Model\"] = \"2016 CHEVROLET Volt\"\n",
    "\n",
    "df_PHEV_Commercial_2 = df.loc[\n",
    "    Base_index+Samples_Per_PHEV_Commercial:Base_index+Samples_Per_PHEV_Commercial * 2 -\n",
    "    1].reset_index(drop=True).join(dfv)\n",
    "\n",
    "# PHEV 3\n",
    "dfv = pd.read_excel('(PHEV) Full Discharge 2016 FORD C-MAX (PHEV) UDDS.xlsx',\n",
    "                    index_col=0)\n",
    "dfv['distance'] = dfv['distance'] * 1.609  # Convert miles to km\n",
    "maxEnergy = dfv.essCurKwh[0]\n",
    "dfv['ChgEnergyReq'] = maxEnergy - dfv['essCurKwh']\n",
    "del dfv['mpsAch']\n",
    "del dfv['essKwOutAch']\n",
    "del dfv['speed']\n",
    "# Use the distance from generated data and find closest distance in\n",
    "# powertrain simulations, merge the resulting DataFrame to the main\n",
    "# DataFrame to Get SOC on the respective random distance.\n",
    "tempind = []\n",
    "for inter, x in enumerate(\n",
    "        df['Distance Traveled'].loc[Base_index+Samples_Per_PHEV_Commercial *\n",
    "                                    2:Base_index+Samples_Per_PHEV_Commercial * 3 - 1]):\n",
    "    tempind.append(dfv['distance'].sub(x).abs().idxmin())\n",
    "\n",
    "dfv = dfv.loc[tempind]\n",
    "dfv = dfv.reset_index()\n",
    "del dfv['index']\n",
    "dfv[\"Type of EV\"] = \"PHEV\"\n",
    "dfv[\"Model\"] = \"FORD C-MAX (PHEV)\"\n",
    "\n",
    "df_PHEV_Commercial_3 = df.loc[Base_index+Samples_Per_PHEV_Commercial *\n",
    "                             2:Base_index+Samples_Per_PHEV_Commercial * 3 -\n",
    "                             1].reset_index(drop=True).join(dfv)\n",
    "\n",
    "# PHEV 4\n",
    "dfv = pd.read_excel('(PHEV) Full Discharge 2016 HYUNDAI Sonata PHEV UDDS.xlsx',\n",
    "                    index_col=0)\n",
    "dfv['distance'] = dfv['distance'] * 1.609  # Convert miles to km\n",
    "maxEnergy = dfv.essCurKwh[0]\n",
    "dfv['ChgEnergyReq'] = maxEnergy - dfv['essCurKwh']\n",
    "del dfv['mpsAch']\n",
    "del dfv['essKwOutAch']\n",
    "del dfv['speed']\n",
    "# Use the distance from generated data and find closest distance in\n",
    "# powertrain simulations, merge the resulting DataFrame to the main\n",
    "# DataFrame to Get SOC on the respective random distance.\n",
    "tempind = []\n",
    "for inter, x in enumerate(\n",
    "        df['Distance Traveled'].loc[Base_index+Samples_Per_PHEV_Commercial *\n",
    "                                    3:Base_index+Samples_Per_PHEV_Commercial * 4 - 1]):\n",
    "    tempind.append(dfv['distance'].sub(x).abs().idxmin())\n",
    "\n",
    "dfv = dfv.loc[tempind]\n",
    "dfv = dfv.reset_index()\n",
    "del dfv['index']\n",
    "dfv[\"Type of EV\"] = \"PHEV\"\n",
    "dfv[\"Model\"] = \"2016 HYUNDAI Sonata PHEV\"\n",
    "\n",
    "df_PHEV_Commercial_4 = df.loc[Base_index+Samples_Per_PHEV_Commercial *\n",
    "                             3:Base_index+Samples_Per_PHEV_Commercial * 4 -\n",
    "                             1].reset_index(drop=True).join(dfv)\n",
    "\n",
    "# PHEV 5 (Not Even Thats Y not Matching, Manually adding 2 more samples for this)\n",
    "dfv = pd.read_excel('(PHEV) Full Discharge 2017 Prius Prime UDDS.xlsx',\n",
    "                    index_col=0)\n",
    "dfv['distance'] = dfv['distance'] * 1.609  # Convert miles to km\n",
    "maxEnergy = dfv.essCurKwh[0]\n",
    "dfv['ChgEnergyReq'] = maxEnergy - dfv['essCurKwh']\n",
    "del dfv['mpsAch']\n",
    "del dfv['essKwOutAch']\n",
    "del dfv['speed']\n",
    "# Use the distance from generated data and find closest distance in\n",
    "# powertrain simulations, merge the resulting DataFrame to the main\n",
    "# DataFrame to Get SOC on the respective random distance.\n",
    "tempind = []\n",
    "for inter, x in enumerate(\n",
    "        df['Distance Traveled'].loc[Base_index+Samples_Per_PHEV_Commercial *\n",
    "                                    4:Base_index+Samples_Per_PHEV_Commercial * 5 + 1]):\n",
    "    tempind.append(dfv['distance'].sub(x).abs().idxmin())\n",
    "\n",
    "dfv = dfv.loc[tempind]\n",
    "dfv = dfv.reset_index()\n",
    "del dfv['index']\n",
    "dfv[\"Type of EV\"] = \"PHEV\"\n",
    "dfv[\"Model\"] = \"2017 Prius Prime\"\n",
    "\n",
    "df_PHEV_Commercial_5 = df.loc[Base_index+Samples_Per_PHEV_Commercial *\n",
    "                             4:Base_index+Samples_Per_PHEV_Commercial * 5 +\n",
    "                             1].reset_index(drop=True).join(dfv)\n",
    "\n",
    "\n",
    "df_PHEV_Commercial = pd.concat([\n",
    "    df_PHEV_Commercial_1, df_PHEV_Commercial_2, df_PHEV_Commercial_3,\n",
    "    df_PHEV_Commercial_4, df_PHEV_Commercial_5\n",
    "],\n",
    "                              ignore_index=True)"
   ]
  },
  {
   "cell_type": "markdown",
   "metadata": {},
   "source": [
    "## (BEV) Residential @ UDDS"
   ]
  },
  {
   "cell_type": "code",
   "execution_count": null,
   "metadata": {
    "ExecuteTime": {
     "end_time": "2021-01-11T10:38:31.469343Z",
     "start_time": "2021-01-11T10:38:19.051122Z"
    }
   },
   "outputs": [],
   "source": [
    "Base_index = df_BEV_Commercial.shape[0]+df_PHEV_Commercial.shape[0]\n",
    "\n",
    "# BEV 1\n",
    "dfv = pd.read_excel('(BEV) Full Discharge 2016 CHEVROLET Spark EV UDDS.xlsx',\n",
    "                    index_col=0)\n",
    "dfv['distance'] = dfv['distance'] * 1.609  # Convert miles to km\n",
    "maxEnergy = dfv.essCurKwh[0]\n",
    "dfv['ChgEnergyReq'] = maxEnergy - dfv['essCurKwh']\n",
    "del dfv['mpsAch']\n",
    "del dfv['essKwOutAch']\n",
    "del dfv['speed']\n",
    "# Use the distance from generated data and find closest distance in\n",
    "# powertrain simulations, merge the resulting DataFrame to the main\n",
    "# DataFrame to Get SOC on the respective random distance.\n",
    "tempind = []\n",
    "for inter, x in enumerate(\n",
    "        df['Distance Traveled'].loc[Base_index:Base_index+Samples_Per_BEV_Residential - 1]):\n",
    "    tempind.append(dfv['distance'].sub(x).abs().idxmin())\n",
    "\n",
    "dfv = dfv.loc[tempind]\n",
    "dfv = dfv.reset_index()\n",
    "del dfv['index']\n",
    "dfv[\"Type of EV\"] = \"BEV\"\n",
    "dfv[\"Model\"] = \"2016 CHEVROLET Spark EV\"\n",
    "\n",
    "df_BEV_Residential_1 = df.loc[Base_index:Base_index+Samples_Per_BEV_Residential -\n",
    "                              1].reset_index(drop=True).join(dfv)\n",
    "\n",
    "# BEV 2\n",
    "dfv = pd.read_excel('(BEV) Full Discharge 2016 Leaf 24 kWh UDDS.xlsx',\n",
    "                    index_col=0)\n",
    "dfv['distance'] = dfv['distance'] * 1.609  # Convert miles to km\n",
    "maxEnergy = dfv.essCurKwh[0]\n",
    "dfv['ChgEnergyReq'] = maxEnergy - dfv['essCurKwh']\n",
    "del dfv['mpsAch']\n",
    "del dfv['essKwOutAch']\n",
    "del dfv['speed']\n",
    "# Use the distance from generated data and find closest distance in\n",
    "# powertrain simulations, merge the resulting DataFrame to the main\n",
    "# DataFrame to Get SOC on the respective random distance.\n",
    "tempind = []\n",
    "for inter, x in enumerate(\n",
    "        df['Distance Traveled'].\n",
    "        loc[Base_index+Samples_Per_BEV_Residential:Base_index+Samples_Per_BEV_Residential * 2 - 1]):\n",
    "    tempind.append(dfv['distance'].sub(x).abs().idxmin())\n",
    "\n",
    "dfv = dfv.loc[tempind]\n",
    "dfv = dfv.reset_index()\n",
    "del dfv['index']\n",
    "dfv[\"Type of EV\"] = \"BEV\"\n",
    "dfv[\"Model\"] = \"2016 Nissan Leaf 24kWh\"\n",
    "\n",
    "df_BEV_Residential_2 = df.loc[\n",
    "    Base_index+Samples_Per_BEV_Residential:Base_index+Samples_Per_BEV_Residential * 2 -\n",
    "    1].reset_index(drop=True).join(dfv)\n",
    "\n",
    "# BEV 3\n",
    "dfv = pd.read_excel('(BEV) Full Discharge 2016 MITSUBISHI i-MiEV UDDS.xlsx',\n",
    "                    index_col=0)\n",
    "dfv['distance'] = dfv['distance'] * 1.609  # Convert miles to km\n",
    "maxEnergy = dfv.essCurKwh[0]\n",
    "dfv['ChgEnergyReq'] = maxEnergy - dfv['essCurKwh']\n",
    "del dfv['mpsAch']\n",
    "del dfv['essKwOutAch']\n",
    "del dfv['speed']\n",
    "# Use the distance from generated data and find closest distance in\n",
    "# powertrain simulations, merge the resulting DataFrame to the main\n",
    "# DataFrame to Get SOC on the respective random distance.\n",
    "tempind = []\n",
    "for inter, x in enumerate(\n",
    "        df['Distance Traveled'].loc[Base_index+Samples_Per_BEV_Residential *\n",
    "                                    2:Base_index+Samples_Per_BEV_Residential * 3 - 1]):\n",
    "    tempind.append(dfv['distance'].sub(x).abs().idxmin())\n",
    "\n",
    "dfv = dfv.loc[tempind]\n",
    "dfv = dfv.reset_index()\n",
    "del dfv['index']\n",
    "dfv[\"Type of EV\"] = \"BEV\"\n",
    "dfv[\"Model\"] = \"2016 MITSUBISHI i-MiEV\"\n",
    "\n",
    "df_BEV_Residential_3 = df.loc[Base_index+Samples_Per_BEV_Residential *\n",
    "                              2:Base_index+Samples_Per_BEV_Residential * 3 -\n",
    "                              1].reset_index(drop=True).join(dfv)\n",
    "\n",
    "# BEV 4\n",
    "dfv = pd.read_excel('(BEV) Full Discharge 2016 Nissan Leaf 30 kWh UDDS.xlsx',\n",
    "                    index_col=0)\n",
    "dfv['distance'] = dfv['distance'] * 1.609  # Convert miles to km\n",
    "maxEnergy = dfv.essCurKwh[0]\n",
    "dfv['ChgEnergyReq'] = maxEnergy - dfv['essCurKwh']\n",
    "del dfv['mpsAch']\n",
    "del dfv['essKwOutAch']\n",
    "del dfv['speed']\n",
    "# Use the distance from generated data and find closest distance in\n",
    "# powertrain simulations, merge the resulting DataFrame to the main\n",
    "# DataFrame to Get SOC on the respective random distance.\n",
    "tempind = []\n",
    "for inter, x in enumerate(\n",
    "        df['Distance Traveled'].loc[Base_index+Samples_Per_BEV_Residential *\n",
    "                                    3:Base_index+Samples_Per_BEV_Residential * 4 - 1]):\n",
    "    tempind.append(dfv['distance'].sub(x).abs().idxmin())\n",
    "\n",
    "dfv = dfv.loc[tempind]\n",
    "dfv = dfv.reset_index()\n",
    "del dfv['index']\n",
    "dfv[\"Type of EV\"] = \"BEV\"\n",
    "dfv[\"Model\"] = \"2016 Nissan Leaf 30 kWh\"\n",
    "\n",
    "df_BEV_Residential_4 = df.loc[Samples_Per_BEV_Residential *\n",
    "                              3:Samples_Per_BEV_Residential * 4 -\n",
    "                              1].reset_index(drop=True).join(dfv)\n",
    "\n",
    "# BEV 5\n",
    "dfv = pd.read_excel('(BEV) Full Discharge 2016 TESLA Model S60 2WD UDDS.xlsx',\n",
    "                    index_col=0)\n",
    "dfv['distance'] = dfv['distance'] * 1.609  # Convert miles to km\n",
    "maxEnergy = dfv.essCurKwh[0]\n",
    "dfv['ChgEnergyReq'] = maxEnergy - dfv['essCurKwh']\n",
    "del dfv['mpsAch']\n",
    "del dfv['essKwOutAch']\n",
    "del dfv['speed']\n",
    "# Use the distance from generated data and find closest distance in\n",
    "# powertrain simulations, merge the resulting DataFrame to the main\n",
    "# DataFrame to Get SOC on the respective random distance.\n",
    "tempind = []\n",
    "for inter, x in enumerate(\n",
    "        df['Distance Traveled'].loc[Base_index+Samples_Per_BEV_Residential *\n",
    "                                    4:Base_index+Samples_Per_BEV_Residential * 5 - 1]):\n",
    "    tempind.append(dfv['distance'].sub(x).abs().idxmin())\n",
    "\n",
    "dfv = dfv.loc[tempind]\n",
    "dfv = dfv.reset_index()\n",
    "del dfv['index']\n",
    "dfv[\"Type of EV\"] = \"BEV\"\n",
    "dfv[\"Model\"] = \"2016 TESLA Model S60 2WD\"\n",
    "\n",
    "df_BEV_Residential_5 = df.loc[Base_index+Samples_Per_BEV_Residential *\n",
    "                              4:Base_index+Samples_Per_BEV_Residential * 5 -\n",
    "                              1].reset_index(drop=True).join(dfv)\n",
    "\n",
    "# BEV 6\n",
    "dfv = pd.read_excel('(BEV) Full Discharge 2017 CHEVROLET Bolt UDDS.xlsx',\n",
    "                    index_col=0)\n",
    "dfv['distance'] = dfv['distance'] * 1.609  # Convert miles to km\n",
    "maxEnergy = dfv.essCurKwh[0]\n",
    "dfv['ChgEnergyReq'] = maxEnergy - dfv['essCurKwh']\n",
    "del dfv['mpsAch']\n",
    "del dfv['essKwOutAch']\n",
    "del dfv['speed']\n",
    "# Use the distance from generated data and find closest distance in\n",
    "# powertrain simulations, merge the resulting DataFrame to the main\n",
    "# DataFrame to Get SOC on the respective random distance.\n",
    "tempind = []\n",
    "for inter, x in enumerate(\n",
    "        df['Distance Traveled'].loc[Base_index+Samples_Per_BEV_Residential *\n",
    "                                    5:Base_index+Samples_Per_BEV_Residential * 6 - 1]):\n",
    "    tempind.append(dfv['distance'].sub(x).abs().idxmin())\n",
    "\n",
    "dfv = dfv.loc[tempind]\n",
    "dfv = dfv.reset_index()\n",
    "del dfv['index']\n",
    "dfv[\"Type of EV\"] = \"BEV\"\n",
    "dfv[\"Model\"] = \"2017 CHEVROLET Bolt\"\n",
    "\n",
    "df_BEV_Residential_6 = df.loc[Base_index+Samples_Per_BEV_Residential *\n",
    "                              5:Base_index+Samples_Per_BEV_Residential * 6 -\n",
    "                              1].reset_index(drop=True).join(dfv)\n",
    "df_BEV_Residential = pd.concat([\n",
    "    df_BEV_Residential_1, df_BEV_Residential_2, df_BEV_Residential_3,\n",
    "    df_BEV_Residential_4, df_BEV_Residential_5, df_BEV_Residential_6\n",
    "],\n",
    "                              ignore_index=True)"
   ]
  },
  {
   "cell_type": "markdown",
   "metadata": {},
   "source": [
    "## (PHEV) Residential @ UDDS"
   ]
  },
  {
   "cell_type": "code",
   "execution_count": null,
   "metadata": {
    "ExecuteTime": {
     "end_time": "2021-01-11T10:38:56.829192Z",
     "start_time": "2021-01-11T10:38:31.843920Z"
    }
   },
   "outputs": [],
   "source": [
    "Base_index = df_BEV_Commercial.shape[0]+df_PHEV_Commercial.shape[0]+df_BEV_Residential.shape[0]\n",
    "# PHEV 1\n",
    "dfv = pd.read_excel('(PHEV) Full Discharge 2016 BMW i3 REx PHEV UDDS.xlsx',\n",
    "                    index_col=0)\n",
    "dfv['distance'] = dfv['distance'] * 1.609  # Convert miles to km\n",
    "maxEnergy = dfv.essCurKwh[0]\n",
    "dfv['ChgEnergyReq'] = maxEnergy - dfv['essCurKwh']\n",
    "del dfv['mpsAch']\n",
    "del dfv['essKwOutAch']\n",
    "del dfv['speed']\n",
    "# Use the distance from generated data and find closest distance in\n",
    "# powertrain simulations, merge the resulting DataFrame to the main\n",
    "# DataFrame to Get SOC on the respective random distance.\n",
    "tempind = []\n",
    "for inter, x in enumerate(\n",
    "        df['Distance Traveled'].loc[Base_index:Base_index+Samples_Per_PHEV_Residential - 1]):\n",
    "    tempind.append(dfv['distance'].sub(x).abs().idxmin())\n",
    "\n",
    "dfv = dfv.loc[tempind]\n",
    "dfv = dfv.reset_index()\n",
    "del dfv['index']\n",
    "dfv[\"Type of EV\"] = \"PHEV\"\n",
    "dfv[\"Model\"] = \"2016 BMW i3 REx PHEV\"\n",
    "\n",
    "df_PHEV_Residential_1 = df.loc[Base_index:Base_index+Samples_Per_PHEV_Residential -\n",
    "                             1].reset_index(drop=True).join(dfv)\n",
    "\n",
    "# PHEV 2\n",
    "dfv = pd.read_excel('(PHEV) Full Discharge 2016 CHEVROLET Volt UDDS.xlsx',\n",
    "                    index_col=0)\n",
    "dfv['distance'] = dfv['distance'] * 1.609  # Convert miles to km\n",
    "maxEnergy = dfv.essCurKwh[0]\n",
    "dfv['ChgEnergyReq'] = maxEnergy - dfv['essCurKwh']\n",
    "del dfv['mpsAch']\n",
    "del dfv['essKwOutAch']\n",
    "del dfv['speed']\n",
    "# Use the distance from generated data and find closest distance in\n",
    "# powertrain simulations, merge the resulting DataFrame to the main\n",
    "# DataFrame to Get SOC on the respective random distance.\n",
    "tempind = []\n",
    "for inter, x in enumerate(\n",
    "        df['Distance Traveled'].\n",
    "        loc[Samples_Per_PHEV_Residential:Samples_Per_PHEV_Residential * 2 - 1]):\n",
    "    tempind.append(dfv['distance'].sub(x).abs().idxmin())\n",
    "\n",
    "dfv = dfv.loc[tempind]\n",
    "dfv = dfv.reset_index()\n",
    "del dfv['index']\n",
    "dfv[\"Type of EV\"] = \"PHEV\"\n",
    "dfv[\"Model\"] = \"2016 CHEVROLET Volt\"\n",
    "\n",
    "df_PHEV_Residential_2 = df.loc[\n",
    "    Base_index+Samples_Per_PHEV_Residential:Base_index+Samples_Per_PHEV_Residential * 2 -\n",
    "    1].reset_index(drop=True).join(dfv)\n",
    "\n",
    "# PHEV 3\n",
    "dfv = pd.read_excel('(PHEV) Full Discharge 2016 FORD C-MAX (PHEV) UDDS.xlsx',\n",
    "                    index_col=0)\n",
    "dfv['distance'] = dfv['distance'] * 1.609  # Convert miles to km\n",
    "maxEnergy = dfv.essCurKwh[0]\n",
    "dfv['ChgEnergyReq'] = maxEnergy - dfv['essCurKwh']\n",
    "del dfv['mpsAch']\n",
    "del dfv['essKwOutAch']\n",
    "del dfv['speed']\n",
    "# Use the distance from generated data and find closest distance in\n",
    "# powertrain simulations, merge the resulting DataFrame to the main\n",
    "# DataFrame to Get SOC on the respective random distance.\n",
    "tempind = []\n",
    "for inter, x in enumerate(\n",
    "        df['Distance Traveled'].loc[Base_index+Samples_Per_PHEV_Residential *\n",
    "                                    2:Base_index+Samples_Per_PHEV_Residential * 3 - 1]):\n",
    "    tempind.append(dfv['distance'].sub(x).abs().idxmin())\n",
    "\n",
    "dfv = dfv.loc[tempind]\n",
    "dfv = dfv.reset_index()\n",
    "del dfv['index']\n",
    "dfv[\"Type of EV\"] = \"PHEV\"\n",
    "dfv[\"Model\"] = \"FORD C-MAX (PHEV)\"\n",
    "\n",
    "df_PHEV_Residential_3 = df.loc[Base_index+Samples_Per_PHEV_Residential *\n",
    "                             2:Base_index+Samples_Per_PHEV_Residential * 3 -\n",
    "                             1].reset_index(drop=True).join(dfv)\n",
    "\n",
    "# PHEV 4\n",
    "dfv = pd.read_excel('(PHEV) Full Discharge 2016 HYUNDAI Sonata PHEV UDDS.xlsx',\n",
    "                    index_col=0)\n",
    "dfv['distance'] = dfv['distance'] * 1.609  # Convert miles to km\n",
    "maxEnergy = dfv.essCurKwh[0]\n",
    "dfv['ChgEnergyReq'] = maxEnergy - dfv['essCurKwh']\n",
    "del dfv['mpsAch']\n",
    "del dfv['essKwOutAch']\n",
    "del dfv['speed']\n",
    "# Use the distance from generated data and find closest distance in\n",
    "# powertrain simulations, merge the resulting DataFrame to the main\n",
    "# DataFrame to Get SOC on the respective random distance.\n",
    "tempind = []\n",
    "for inter, x in enumerate(\n",
    "        df['Distance Traveled'].loc[Base_index+Samples_Per_PHEV_Residential *\n",
    "                                    3:Base_index+Samples_Per_PHEV_Residential * 4 - 1]):\n",
    "    tempind.append(dfv['distance'].sub(x).abs().idxmin())\n",
    "\n",
    "dfv = dfv.loc[tempind]\n",
    "dfv = dfv.reset_index()\n",
    "del dfv['index']\n",
    "dfv[\"Type of EV\"] = \"PHEV\"\n",
    "dfv[\"Model\"] = \"2016 HYUNDAI Sonata PHEV\"\n",
    "\n",
    "df_PHEV_Residential_4 = df.loc[Base_index+Samples_Per_PHEV_Residential *\n",
    "                             3:Base_index+Samples_Per_PHEV_Residential * 4 -\n",
    "                             1].reset_index(drop=True).join(dfv)\n",
    "\n",
    "# PHEV 5 (Not Even Thats Y not Matching, Manually adding 2 more samples for this)\n",
    "dfv = pd.read_excel('(PHEV) Full Discharge 2017 Prius Prime UDDS.xlsx',\n",
    "                    index_col=0)\n",
    "dfv['distance'] = dfv['distance'] * 1.609  # Convert miles to km\n",
    "maxEnergy = dfv.essCurKwh[0]\n",
    "dfv['ChgEnergyReq'] = maxEnergy - dfv['essCurKwh']\n",
    "del dfv['mpsAch']\n",
    "del dfv['essKwOutAch']\n",
    "del dfv['speed']\n",
    "# Use the distance from generated data and find closest distance in\n",
    "# powertrain simulations, merge the resulting DataFrame to the main\n",
    "# DataFrame to Get SOC on the respective random distance.\n",
    "tempind = []\n",
    "for inter, x in enumerate(\n",
    "        df['Distance Traveled'].loc[Base_index+Samples_Per_PHEV_Residential *\n",
    "                                    4:Base_index+Samples_Per_PHEV_Residential * 5 + 1]):\n",
    "    tempind.append(dfv['distance'].sub(x).abs().idxmin())\n",
    "\n",
    "dfv = dfv.loc[tempind]\n",
    "dfv = dfv.reset_index()\n",
    "del dfv['index']\n",
    "dfv[\"Type of EV\"] = \"PHEV\"\n",
    "dfv[\"Model\"] = \"2017 Prius Prime\"\n",
    "\n",
    "df_PHEV_Residential_5 = df.loc[Base_index+Samples_Per_PHEV_Residential *\n",
    "                             4:Base_index+Samples_Per_PHEV_Residential * 5 +\n",
    "                             1].reset_index(drop=True).join(dfv)\n",
    "\n",
    "\n",
    "df_PHEV_Residential = pd.concat([\n",
    "    df_PHEV_Residential_1, df_PHEV_Residential_2, df_PHEV_Residential_3,\n",
    "    df_PHEV_Residential_4, df_PHEV_Residential_5\n",
    "],\n",
    "                              ignore_index=True)"
   ]
  },
  {
   "cell_type": "markdown",
   "metadata": {},
   "source": [
    "## Concatenate Results"
   ]
  },
  {
   "cell_type": "code",
   "execution_count": null,
   "metadata": {
    "ExecuteTime": {
     "end_time": "2021-01-11T10:38:57.295905Z",
     "start_time": "2021-01-11T10:38:57.271970Z"
    }
   },
   "outputs": [],
   "source": [
    "df_pt=pd.concat([\n",
    "    df_BEV_Commercial, df_PHEV_Commercial, df_BEV_Residential,\n",
    "    df_PHEV_Residential\n",
    "],\n",
    "          ignore_index=True)\n",
    "df_pt"
   ]
  },
  {
   "cell_type": "code",
   "execution_count": null,
   "metadata": {
    "ExecuteTime": {
     "end_time": "2021-01-11T10:38:57.761686Z",
     "start_time": "2021-01-11T10:38:57.758697Z"
    }
   },
   "outputs": [],
   "source": [
    "#dfmega3.to_excel('C:/Users/USPCASE/Desktop/Working Folder/NUST-Grid/NUST 65EV.xlsx', sheet_name='EV load')"
   ]
  },
  {
   "cell_type": "markdown",
   "metadata": {},
   "source": [
    "## ^ Issues 1 Entry is missing probably PHEV & Most PHEV are assigned to commerical Evening Segregate BEV and PHEV (commercial) by morning and evening"
   ]
  },
  {
   "cell_type": "markdown",
   "metadata": {},
   "source": [
    "# Calculate Departure Times based on Charger Levels"
   ]
  },
  {
   "cell_type": "markdown",
   "metadata": {},
   "source": [
    "Different Charging levels  SAE J1772_201210 \n",
    "\n",
    "* level-1  , voltage: 120V AC    ,   Power Level: 1.8KW,\n",
    "* level-2  , voltage: 208-240V AC ,  Power Level: 19.2 KW,\n",
    "* level-3  , voltage: 480V DC  ,     Power Level: 50KW-150KW "
   ]
  },
  {
   "cell_type": "code",
   "execution_count": null,
   "metadata": {
    "ExecuteTime": {
     "end_time": "2021-01-11T10:38:58.226480Z",
     "start_time": "2021-01-11T10:38:58.221458Z"
    }
   },
   "outputs": [],
   "source": [
    "# Calculation of the charging time required to reach 0.95(95%) of SOC \n",
    "# Tch=(0.95-SOC)* (CAPACITY OF BATTERY)/(RATED POWER OF CHARGER)* EFFICIENCY OF CHARGER\n",
    "Tch=((df_pt['ChgEnergyReq'])/(1.8)*(0.95)) # Level 1 Charging\n",
    "\n",
    "Tch2=((df_pt['ChgEnergyReq'])/(19.2)*(0.95)) # Level 2 Charging\n",
    "\n",
    "Tch3=((df_pt['ChgEnergyReq'])/(50)*(0.95)) # Level 3 Charging"
   ]
  },
  {
   "cell_type": "markdown",
   "metadata": {},
   "source": [
    "## Charge Complete Time"
   ]
  },
  {
   "cell_type": "code",
   "execution_count": null,
   "metadata": {
    "ExecuteTime": {
     "end_time": "2021-01-11T10:38:58.716135Z",
     "start_time": "2021-01-11T10:38:58.708184Z"
    },
    "run_control": {
     "marked": true
    }
   },
   "outputs": [],
   "source": [
    "#Level1 charging \n",
    "depT=[]\n",
    "for at,ct in zip(df_pt['Arrival Time'].values,Tch):\n",
    "    temp=datetime.datetime.combine(datetime.date.today(),at)+datetime.timedelta(hours=ct)\n",
    "    depT.append(temp.time())\n",
    "df_pt.insert(1,'Charge Complete Time Level 1',depT)\n",
    "#Level 2 Charging \n",
    "depT=[]\n",
    "for at,ct in zip(df_pt['Arrival Time'].values,Tch2):\n",
    "    temp=datetime.datetime.combine(datetime.date.today(),at)+datetime.timedelta(hours=ct)\n",
    "    depT.append(temp.time())\n",
    "df_pt.insert(2,'Charge Complete Time Level 2',depT)\n",
    "#Level 3 charging \n",
    "depT=[]\n",
    "for at,ct in zip(df_pt['Arrival Time'].values,Tch3):\n",
    "    temp=datetime.datetime.combine(datetime.date.today(),at)+datetime.timedelta(hours=ct)\n",
    "    depT.append(temp.time())\n",
    "df_pt.insert(3,'Charge Complete Time Level 3',depT)"
   ]
  },
  {
   "cell_type": "code",
   "execution_count": null,
   "metadata": {
    "ExecuteTime": {
     "end_time": "2021-01-11T10:38:59.582892Z",
     "start_time": "2021-01-11T10:38:59.183884Z"
    }
   },
   "outputs": [],
   "source": [
    "# Scatter plot between Plugin time and battery State of Charge\n",
    "import seaborn as sns\n",
    "#from pandas.plotting import register_matplotlib_converters\n",
    "#register_matplotlib_converters()\n",
    "#sns.set(font_scale=1.5, style=\"whitegrid\")\n",
    "dfprint= df_pt.copy()\n",
    "dfprint[\"Arrival Time\"]=dfprint[\"Arrival Time\"].apply(lambda a: a.hour+a.minute/60.0)\n",
    "sns.jointplot(data=dfprint, x=\"Arrival Time\", y=\"soc\", hue=\"Type of EV\")"
   ]
  },
  {
   "cell_type": "code",
   "execution_count": null,
   "metadata": {
    "ExecuteTime": {
     "end_time": "2021-01-11T10:39:00.631115Z",
     "start_time": "2021-01-11T10:39:00.203205Z"
    }
   },
   "outputs": [],
   "source": [
    "# Scatter plot between Plugin time and battery State of Charge\n",
    "import seaborn as sns\n",
    "#from pandas.plotting import register_matplotlib_converters\n",
    "#register_matplotlib_converters()\n",
    "#sns.set(font_scale=1.5, style=\"whitegrid\")\n",
    "dfprint= df_pt.copy()\n",
    "dfprint[\"Arrival Time\"]=dfprint[\"Arrival Time\"].apply(lambda a: a.hour+a.minute/60.0+a.second/(60*60))\n",
    "sns.jointplot(data=dfprint, x=\"Arrival Time\", y=\"ChgEnergyReq\",hue=\"Type of EV\")"
   ]
  },
  {
   "cell_type": "markdown",
   "metadata": {},
   "source": [
    "# Timeline for Each EV"
   ]
  },
  {
   "cell_type": "code",
   "execution_count": null,
   "metadata": {
    "ExecuteTime": {
     "end_time": "2021-01-11T10:39:01.202568Z",
     "start_time": "2021-01-11T10:39:01.179626Z"
    }
   },
   "outputs": [],
   "source": [
    "dftimeline = df_pt.copy()\n",
    "#DateTime to Minutes of day\n",
    "dftimeline[\"Arrival Time\"] = dftimeline[\"Arrival Time\"].apply(\n",
    "    lambda a: int((a.hour + a.minute / 60.0) * 60))\n",
    "dftimeline[\"Charge Complete Time Level 1\"] = dftimeline[\n",
    "    \"Charge Complete Time Level 1\"].apply(\n",
    "        lambda a: int((a.hour + a.minute / 60.0) * 60 ))\n",
    "dftimeline[\"Charge Complete Time Level 2\"] = dftimeline[\n",
    "    \"Charge Complete Time Level 2\"].apply(\n",
    "        lambda a: int((a.hour + a.minute / 60.0) * 60 ))\n",
    "dftimeline[\"Charge Complete Time Level 3\"] = dftimeline[\n",
    "    \"Charge Complete Time Level 3\"].apply(\n",
    "        lambda a: int((a.hour + a.minute / 60.0) * 60 ))\n",
    "\n",
    "lev1_ch_times = np.zeros(((24 * 60), Total_EV_Number))  # Minutes in Day\n",
    "lev2_ch_times = np.zeros(((24 * 60), Total_EV_Number))  # Minutes in Day\n",
    "lev3_ch_times = np.zeros(((24 * 60), Total_EV_Number))  # Minutes in Day\n",
    "\n",
    "temp = np.arange(dftimeline.shape[0])\n",
    "\n",
    "for i in temp:\n",
    "    lev1_ch_times[dftimeline[\"Arrival Time\"][i]:dftimeline[\n",
    "        \"Charge Complete Time Level 1\"][i],i] = dftimeline[\"ChgEnergyReq\"][i]\n",
    "    lev2_ch_times[dftimeline[\"Arrival Time\"][i]:dftimeline[\n",
    "        \"Charge Complete Time Level 2\"][i],i] = dftimeline[\"ChgEnergyReq\"][i]\n",
    "    lev3_ch_times[dftimeline[\"Arrival Time\"][i]:dftimeline[\n",
    "        \"Charge Complete Time Level 3\"][i],i] = dftimeline[\"ChgEnergyReq\"][i]\n"
   ]
  },
  {
   "cell_type": "code",
   "execution_count": null,
   "metadata": {
    "ExecuteTime": {
     "end_time": "2021-01-11T10:39:02.088195Z",
     "start_time": "2021-01-11T10:39:01.720179Z"
    }
   },
   "outputs": [],
   "source": [
    "plt.figure()\n",
    "plt.plot(lev1_ch_times)\n",
    "plt.xlabel('minutes')\n",
    "plt.ylabel('Charging Energy required')\n",
    "plt.title('Level 1 charging')\n",
    "plt.show"
   ]
  },
  {
   "cell_type": "code",
   "execution_count": null,
   "metadata": {
    "ExecuteTime": {
     "end_time": "2021-01-11T10:39:02.945936Z",
     "start_time": "2021-01-11T10:39:02.594870Z"
    }
   },
   "outputs": [],
   "source": [
    "plt.figure()\n",
    "plt.plot(lev2_ch_times)\n",
    "plt.xlabel('minutes')\n",
    "plt.ylabel('Charging Energy required')\n",
    "plt.title('Level 2 charging')\n",
    "plt.show"
   ]
  },
  {
   "cell_type": "code",
   "execution_count": null,
   "metadata": {
    "ExecuteTime": {
     "end_time": "2021-01-11T10:39:03.861475Z",
     "start_time": "2021-01-11T10:39:03.512387Z"
    }
   },
   "outputs": [],
   "source": [
    "plt.figure()\n",
    "plt.plot(lev3_ch_times)\n",
    "plt.xlabel('minutes')\n",
    "plt.ylabel('Charging Energy required')\n",
    "plt.title('Level 3 charging')\n",
    "plt.show"
   ]
  },
  {
   "cell_type": "markdown",
   "metadata": {},
   "source": [
    "# Assuming All Vehicles are charged at Once"
   ]
  },
  {
   "cell_type": "code",
   "execution_count": null,
   "metadata": {
    "ExecuteTime": {
     "end_time": "2021-01-11T10:39:04.470850Z",
     "start_time": "2021-01-11T10:39:04.367099Z"
    }
   },
   "outputs": [],
   "source": [
    "plt.figure()\n",
    "plt.plot(np.sum(lev1_ch_times, axis=1))\n",
    "plt.xlabel('minutes')\n",
    "plt.ylabel('Charging Energy required')\n",
    "plt.title('Level 1 charging')\n",
    "plt.show"
   ]
  },
  {
   "cell_type": "code",
   "execution_count": null,
   "metadata": {
    "ExecuteTime": {
     "end_time": "2021-01-11T10:39:05.077227Z",
     "start_time": "2021-01-11T10:39:04.977468Z"
    }
   },
   "outputs": [],
   "source": [
    "plt.figure()\n",
    "plt.plot(np.sum(lev2_ch_times, axis=1))\n",
    "plt.xlabel('minutes')\n",
    "plt.ylabel('Charging Energy required')\n",
    "plt.title('Level 2 charging')\n",
    "plt.show"
   ]
  },
  {
   "cell_type": "code",
   "execution_count": null,
   "metadata": {
    "ExecuteTime": {
     "end_time": "2021-01-11T10:39:05.686598Z",
     "start_time": "2021-01-11T10:39:05.585867Z"
    },
    "scrolled": true
   },
   "outputs": [],
   "source": [
    "plt.figure()\n",
    "plt.plot(np.sum(lev3_ch_times, axis=1))\n",
    "plt.xlabel('minutes')\n",
    "plt.ylabel('Charging Energy required')\n",
    "plt.title('Level 3 charging')\n",
    "plt.show"
   ]
  },
  {
   "cell_type": "markdown",
   "metadata": {},
   "source": [
    "# Number of Vehicles Occupying Charging slot Simultaneously"
   ]
  },
  {
   "cell_type": "code",
   "execution_count": null,
   "metadata": {
    "ExecuteTime": {
     "end_time": "2021-01-11T10:39:06.309933Z",
     "start_time": "2021-01-11T10:39:06.205184Z"
    }
   },
   "outputs": [],
   "source": [
    "# For Level 1 Charger \n",
    "num_of_veh1= np.sum(np.where(lev1_ch_times > 0,1,0),axis=1)  \n",
    "plt.figure()\n",
    "plt.plot(num_of_veh1) \n",
    "plt.xlabel('minutes')\n",
    "plt.ylabel('Vehicles Occupying Chargers') \n",
    "plt.title('Level 1 charging ') \n",
    "plt.show "
   ]
  },
  {
   "cell_type": "code",
   "execution_count": null,
   "metadata": {
    "ExecuteTime": {
     "end_time": "2021-01-11T10:39:06.931269Z",
     "start_time": "2021-01-11T10:39:06.816547Z"
    }
   },
   "outputs": [],
   "source": [
    "# For Level 2 Charger \n",
    "num_of_veh2= np.sum(np.where(lev2_ch_times > 0,1,0),axis=1)  \n",
    "plt.figure()\n",
    "plt.plot(num_of_veh2) \n",
    "plt.xlabel('minutes')\n",
    "plt.ylabel('Vehicles Occupying Chargers') \n",
    "plt.title('Level 2 charging ') \n",
    "plt.show "
   ]
  },
  {
   "cell_type": "code",
   "execution_count": null,
   "metadata": {
    "ExecuteTime": {
     "end_time": "2021-01-11T10:39:07.543630Z",
     "start_time": "2021-01-11T10:39:07.439880Z"
    }
   },
   "outputs": [],
   "source": [
    "# For Level 3 Charger \n",
    "num_of_veh3= np.sum(np.where(lev3_ch_times > 0,1,0),axis=1)  \n",
    "plt.figure()\n",
    "plt.plot(num_of_veh3) \n",
    "plt.xlabel('minutes')\n",
    "plt.ylabel('Vehicles Occupying Chargers') \n",
    "plt.title('Level 3 charging ') \n",
    "plt.show "
   ]
  },
  {
   "cell_type": "markdown",
   "metadata": {},
   "source": [
    "# Manual Queueing"
   ]
  },
  {
   "cell_type": "code",
   "execution_count": null,
   "metadata": {
    "ExecuteTime": {
     "end_time": "2021-01-11T10:39:22.090395Z",
     "start_time": "2021-01-11T10:39:22.030581Z"
    },
    "run_control": {
     "marked": true
    }
   },
   "outputs": [],
   "source": [
    "test = np.array([[0, 0, 1, 1, 0, 0], [0, 0, 1, 1, 0, 0], [0, 0, 1, 1, 0, 0],\n",
    "                 [0, 0, 1, 1, 0, 0]])\n",
    "\n",
    "ToT_Char = 3\n",
    "ToT_Time = 6\n",
    "ToT_Char_Use_State = np.zeros((ToT_Char, ToT_Time))  # y = Charger x is time\n",
    "\n",
    "#############################               np.roll\n",
    "for i, ev in enumerate(test): #enumerate counter i for iterable object, ev for the values at iterable object \n",
    "    print(\"For EV\", i)\n",
    "    for j, EV_ch_state in enumerate(ev):\n",
    "        if EV_ch_state == 1:\n",
    "            print(\"Charging\", j)\n",
    "            print(i, j)\n",
    "            # Assign Charger\n",
    "            for l, Charger in enumerate(ToT_Char_Use_State):\n",
    "                print(\"For Charger\", l)\n",
    "                for m, Charger_state in enumerate(Charger):\n",
    "                    if Charger_state == 0:\n",
    "                        print(l, m)\n",
    "                        ToT_Char_Use_State[l,j]=test[i,j]\n",
    "                        print(ToT_Char_Use_State)"
   ]
  },
  {
   "cell_type": "code",
   "execution_count": null,
   "metadata": {
    "ExecuteTime": {
     "end_time": "2021-01-11T10:39:23.010254Z",
     "start_time": "2021-01-11T10:39:22.998275Z"
    }
   },
   "outputs": [],
   "source": [
    "test = np.array([[0, 0, 1, 1, 0, 0], [0, 0, 1, 1, 0, 0], [0, 0, 1, 1, 0, 0],\n",
    "                 [0, 0, 1, 1, 0, 0]])\n",
    "\n",
    "ToT_Char = 3\n",
    "ToT_Time = 6\n",
    "ToT_Char_Use_State = np.zeros((ToT_Char, ToT_Time))  # y = Charger x is time\n",
    "\n",
    "#############################               np.roll\n",
    "for i, ev in enumerate(test):\n",
    "    print(\"For EV\", i)\n",
    "    for j, EV_ch_state in enumerate(ev):\n",
    "        if EV_ch_state == 1:\n",
    "            #print(\"Charging\", j)\n",
    "            #print(i, j)\n",
    "            # Assign Charger\n",
    "            for l, Charger in enumerate(ToT_Char_Use_State):\n",
    "                print(\"For Charger\", l)\n",
    "                if Charger[j] == 0:\n",
    "                    ToT_Char_Use_State[l,:]=test[i,:]\n",
    "                    print(ToT_Char_Use_State)\n",
    "                    print(\"Charger Found,,,,, Breaking\")\n",
    "                    break\n",
    "                else:\n",
    "                    print (\"Congestion,,,,, Check Other Charger\")\n",
    "                    print (l)\n",
    "                    # Check If All Charge Congested or not\n",
    "                    if l == ToT_Char_Use_State.shape[0]-1:\n",
    "                        print (\"Total Congestion,,,,,,,,, No Charger Avalibile\")\n",
    "                        print (\"Rolling EV\", i, \"by 1\")\n",
    "                        test[i]=np.roll(test[i],1)\n",
    "                        # Recheck for this EV\n",
    "                        \n",
    "                    \n",
    "            break"
   ]
  },
  {
   "cell_type": "code",
   "execution_count": null,
   "metadata": {
    "ExecuteTime": {
     "end_time": "2021-01-11T10:39:23.623905Z",
     "start_time": "2021-01-11T10:39:23.612934Z"
    }
   },
   "outputs": [],
   "source": [
    "test = np.array([[0, 1, 0, 0, 1, 0], [0, 0, 0, 1, 1, 0], [0, 1, 0, 1, 0, 0],\n",
    "                 [0, 1, 0, 1, 1, 0]])\n",
    "\n",
    "ToT_Char = 3\n",
    "ToT_Time = 6\n",
    "ToT_Char_Use_State = np.zeros((ToT_Char, ToT_Time))  # y = Charger x is time\n",
    "\n",
    "############################               np.roll\n",
    "roll_en = 0\n",
    "\n",
    "def check_vacant_charger(ev,i,test):\n",
    "    #print(\"In Function\")\n",
    "    for j, EV_ch_state in enumerate(ev):\n",
    "        if EV_ch_state == 1:\n",
    "            #print(\"Charging\", j)\n",
    "            #print(i, j)\n",
    "            # Assign Charger\n",
    "            for l, Charger in enumerate(ToT_Char_Use_State):\n",
    "                print(\"For Charger\", l)\n",
    "                if Charger[j] == 0:\n",
    "                    ToT_Char_Use_State[l,:]+=test[i,:]\n",
    "                    print(ToT_Char_Use_State)\n",
    "                    print(\"Charger Found,,,,, Breaking\")\n",
    "                    test[i]=test[i]\n",
    "                    roll_en=0\n",
    "                    break\n",
    "                else:\n",
    "                    print (\"Congestion,,,,, Check Other Charger\")\n",
    "                    #print (l)\n",
    "                    # Check If All Charge Congested or not\n",
    "                    if l == ToT_Char_Use_State.shape[0]-1:\n",
    "                        print (\"Total Congestion,,,,,,,,, No Charger Avalibile\")\n",
    "                        print (\"Rolling EV\", i, \"by 1\")\n",
    "                        roll_en = 1\n",
    "                        test[i]=np.roll(test[i],1)\n",
    "                        return test[i], roll_en\n",
    "                        # Recheck for this EV      \n",
    "            break\n",
    "    return test[i], roll_en\n",
    "\n",
    "\n",
    "for i, ev in enumerate(test):\n",
    "    print(\"For EV\", i)\n",
    "    test[i],  roll_en= check_vacant_charger(ev,i,test)\n",
    "    print(\"Roll Enable\",roll_en)\n",
    "    while roll_en == 1:\n",
    "        print(\"!!!!!!!!!!!!!!!!!!!!!!!!!!!!!!!!!!!!!!!!!!!!!!!!Roll Had Been Enabled For EV\", i)\n",
    "        test[i],  roll_en= check_vacant_charger(ev,i,test)\n",
    "        #roll_en= 0\n",
    "### Rolling is OK.... The Algo Replaces the charger state but it is required to change only on the time needed\n",
    "# Can add the Times ???????????????????????????????????"
   ]
  },
  {
   "cell_type": "markdown",
   "metadata": {},
   "source": [
    "# Quequing Hours\n",
    "Desgin algo which returns # of Arraival and # of Departures in That Hour"
   ]
  },
  {
   "cell_type": "code",
   "execution_count": null,
   "metadata": {
    "ExecuteTime": {
     "end_time": "2021-01-11T10:39:25.089868Z",
     "start_time": "2021-01-11T10:39:25.061939Z"
    },
    "run_control": {
     "marked": false
    }
   },
   "outputs": [],
   "source": [
    "dftimeline_hours = df_pt.copy()\n",
    "#DateTime to Minutes of day\n",
    "dftimeline_hours[\"Arrival Time\"] = dftimeline_hours[\"Arrival Time\"].apply(\n",
    "    lambda a: int((a.hour)))\n",
    "dftimeline_hours[\"Charge Complete Time Level 1\"] = dftimeline_hours[\n",
    "    \"Charge Complete Time Level 1\"].apply(\n",
    "        lambda a: int((a.hour)))\n",
    "dftimeline_hours[\"Charge Complete Time Level 2\"] = dftimeline_hours[\n",
    "    \"Charge Complete Time Level 2\"].apply(\n",
    "        lambda a: int((a.hour)))\n",
    "dftimeline_hours[\"Charge Complete Time Level 3\"] = dftimeline_hours[\n",
    "    \"Charge Complete Time Level 3\"].apply(\n",
    "        lambda a: int((a.hour)))\n",
    "\n",
    "lev1_ch_times = np.zeros(((24), Total_EV_Number))  # Minutes in Day\n",
    "lev2_ch_times = np.zeros(((24), Total_EV_Number))  # Minutes in Day\n",
    "lev3_ch_times = np.zeros(((24), Total_EV_Number))  # Minutes in Day\n",
    "\n",
    "temp = np.arange(dftimeline_hours.shape[0])\n",
    "\n",
    "for i in temp:\n",
    "    lev1_ch_times[dftimeline_hours[\"Arrival Time\"][i]:dftimeline_hours[\n",
    "        \"Charge Complete Time Level 1\"][i],i] = dftimeline_hours[\"ChgEnergyReq\"][i]\n",
    "    lev2_ch_times[dftimeline_hours[\"Arrival Time\"][i]:dftimeline_hours[\n",
    "        \"Charge Complete Time Level 2\"][i],i] = dftimeline_hours[\"ChgEnergyReq\"][i]\n",
    "    lev3_ch_times[dftimeline_hours[\"Arrival Time\"][i]:dftimeline_hours[\n",
    "        \"Charge Complete Time Level 3\"][i],i] = dftimeline_hours[\"ChgEnergyReq\"][i]\n"
   ]
  },
  {
   "cell_type": "code",
   "execution_count": null,
   "metadata": {
    "ExecuteTime": {
     "end_time": "2021-01-11T10:39:25.830365Z",
     "start_time": "2021-01-11T10:39:25.813411Z"
    }
   },
   "outputs": [],
   "source": [
    "dftimeline_hours"
   ]
  },
  {
   "cell_type": "code",
   "execution_count": null,
   "metadata": {
    "ExecuteTime": {
     "end_time": "2021-01-11T10:39:26.728681Z",
     "start_time": "2021-01-11T10:39:26.637797Z"
    }
   },
   "outputs": [],
   "source": [
    "dftimeline_hours.to_excel (r'C:/Users/USPCASE/Documents/Working Folder/EVtripRep/timeline_EV.xlsx', index = False, header=True)"
   ]
  },
  {
   "cell_type": "code",
   "execution_count": null,
   "metadata": {
    "ExecuteTime": {
     "end_time": "2021-01-11T10:39:27.788899Z",
     "start_time": "2021-01-11T10:39:27.381805Z"
    }
   },
   "outputs": [],
   "source": [
    "# Arrivals in hour\n",
    "\n",
    "Tot_Arr_Hour = []\n",
    "\n",
    "for h in np.arange(24):\n",
    "    Tot_Arr_Hour.append(np.count_nonzero(dftimeline_hours[\"Arrival Time\"] == h))\n",
    "\n",
    "print(Tot_Arr_Hour)\n",
    "\n",
    "#Departure in hours level 1\n",
    "Tot_Dep_Hour_lvl1 = []\n",
    "\n",
    "for h in np.arange(24):\n",
    "    Tot_Dep_Hour_lvl1.append(np.count_nonzero(dftimeline_hours[\"Charge Complete Time Level 1\"] == h))\n",
    "\n",
    "print(Tot_Dep_Hour_lvl1)\n",
    "\n",
    "#Departure in hours level 2\n",
    "Tot_Dep_Hour_lvl2 = []\n",
    "\n",
    "for h in np.arange(24):\n",
    "    Tot_Dep_Hour_lvl2.append(np.count_nonzero(dftimeline_hours[\"Charge Complete Time Level 2\"] == h))\n",
    "\n",
    "print(Tot_Dep_Hour_lvl2)\n",
    "\n",
    "Tot_Dep_Hour_lvl3 = []\n",
    "\n",
    "for h in np.arange(24):\n",
    "    Tot_Dep_Hour_lvl3.append(np.count_nonzero(dftimeline_hours[\"Charge Complete Time Level 3\"] == h))\n",
    "\n",
    "print(Tot_Dep_Hour_lvl3)\n",
    "\n",
    "#Graphs for the number of vehicles arrival in hour and vehicle departure in hour for a day  \n",
    "plt.figure()\n",
    "plt.plot(Tot_Arr_Hour) \n",
    "plt.xlabel('Hours')\n",
    "plt.ylabel('Vehicles Arriving each hour') \n",
    "plt.title('Arrival rate') \n",
    "plt.show \n",
    "\n",
    "plt.figure()\n",
    "plt.plot(Tot_Dep_Hour_lvl1) \n",
    "plt.xlabel('Hours')\n",
    "plt.ylabel('Vehicles Departure each hour') \n",
    "plt.title('Level 1 charging') \n",
    "plt.show \n",
    "\n",
    "plt.figure()\n",
    "plt.plot(Tot_Dep_Hour_lvl2) \n",
    "plt.xlabel('Hours')\n",
    "plt.ylabel('Vehicles Departure each hour') \n",
    "plt.title('Level 2 charging') \n",
    "plt.show\n",
    "\n",
    "plt.figure()\n",
    "plt.plot(Tot_Dep_Hour_lvl3) \n",
    "plt.xlabel('Hours')\n",
    "plt.ylabel('Vehicles Departure each hour') \n",
    "plt.title('Level 3 charging') \n",
    "plt.show\n",
    "\n"
   ]
  },
  {
   "cell_type": "markdown",
   "metadata": {},
   "source": [
    "# Queing Modelling for Charging Station "
   ]
  },
  {
   "cell_type": "code",
   "execution_count": null,
   "metadata": {
    "ExecuteTime": {
     "end_time": "2021-01-11T10:39:29.346838Z",
     "start_time": "2021-01-11T10:39:28.869408Z"
    }
   },
   "outputs": [],
   "source": [
    "for arr,dep in zip(Tot_Arr_Hour,Tot_Dep_Hour_lvl2):\n",
    "    print(arr,dep)\n",
    "    if (arr > 0) & (dep > 0):\n",
    "        Lambda = arr  # nr of arrivals per hour\n",
    "        Mu = np.true_divide(dep, 3)   # nr of exits (services completed) per server per hour (divide total nr of exits by number of servers where we assume 4 servers per charging station)\n",
    "        # Create Arrival and Service processes and specify the number of servers\n",
    "        A = openqtsim.ArrivalProcess(\"E2\", arr_rate=Lambda)\n",
    "        S = openqtsim.ServiceProcess(\"E2\", srv_rate=Mu)\n",
    "        c = 3\n",
    "\n",
    "          # Create the queue object and use it to create a simulating object\n",
    "        q = openqtsim.Queue(A, S, c)\n",
    "        q.kendall_notation\n",
    "        %time\n",
    "        print('Start simulation of \"{}\" queue'.format(q.kendall_notation))\n",
    "        print('')\n",
    "\n",
    "        nr_arr = 300\n",
    "        sim = openqtsim.Simulation(q)\n",
    "        sim.run(nr_arr)\n",
    "        sim.get_stats()\n",
    "        print('Input IAT: {:.4f}'.format(1/Lambda))\n",
    "        print('Input ST: {:.4f}'.format(1/Mu))"
   ]
  },
  {
   "cell_type": "code",
   "execution_count": null,
   "metadata": {
    "ExecuteTime": {
     "end_time": "2021-01-11T10:39:30.137407Z",
     "start_time": "2021-01-11T10:39:29.937057Z"
    }
   },
   "outputs": [],
   "source": [
    "sim.plot_system_state()"
   ]
  },
  {
   "cell_type": "code",
   "execution_count": null,
   "metadata": {
    "ExecuteTime": {
     "end_time": "2021-01-11T10:39:37.653045Z",
     "start_time": "2021-01-11T10:39:37.638076Z"
    }
   },
   "outputs": [],
   "source": [
    "df_cust, df_sys = sim.return_log()\n",
    " # Meaning of the columns:\n",
    "# # c_id: customer id\n",
    "# # IAT: interarrival time \n",
    "# # ST: service time \n",
    "# # AT: arrival time \n",
    "# # TSB: time service begins\n",
    "# # TSE: time service ends \n",
    "# # TCSS: time customer spends in the system\n",
    "# # TCWQ: time customer waits int he queue\n",
    "# # ITS: idle time server\n",
    "# # s_id: id of server assigned to customer\n",
    "df_cust.head(10)\n"
   ]
  },
  {
   "cell_type": "code",
   "execution_count": null,
   "metadata": {
    "ExecuteTime": {
     "end_time": "2021-01-11T10:43:59.954011Z",
     "start_time": "2021-01-11T10:43:59.945038Z"
    }
   },
   "outputs": [],
   "source": [
    "df_sys.head(200)\n",
    "\n",
    "# # Meaning of the columns:\n",
    "# # t: time of logging (if 'lambda' and 'mu' are specified as values per hour, the unit of 't' is hours)\n",
    "# # c_s: nr of customers in the system\n",
    "# # c_q nr of customers in the queue\n"
   ]
  },
  {
   "cell_type": "code",
   "execution_count": null,
   "metadata": {},
   "outputs": [],
   "source": []
  }
 ],
 "metadata": {
  "kernelspec": {
   "display_name": "Python 3",
   "language": "python",
   "name": "python3"
  },
  "language_info": {
   "codemirror_mode": {
    "name": "ipython",
    "version": 3
   },
   "file_extension": ".py",
   "mimetype": "text/x-python",
   "name": "python",
   "nbconvert_exporter": "python",
   "pygments_lexer": "ipython3",
   "version": "3.8.5"
  },
  "toc": {
   "base_numbering": 1,
   "nav_menu": {},
   "number_sections": true,
   "sideBar": true,
   "skip_h1_title": false,
   "title_cell": "Table of Contents",
   "title_sidebar": "Contents",
   "toc_cell": false,
   "toc_position": {
    "height": "calc(100% - 180px)",
    "left": "10px",
    "top": "150px",
    "width": "339px"
   },
   "toc_section_display": true,
   "toc_window_display": true
  },
  "varInspector": {
   "cols": {
    "lenName": 16,
    "lenType": 16,
    "lenVar": 40
   },
   "kernels_config": {
    "python": {
     "delete_cmd_postfix": "",
     "delete_cmd_prefix": "del ",
     "library": "var_list.py",
     "varRefreshCmd": "print(var_dic_list())"
    },
    "r": {
     "delete_cmd_postfix": ") ",
     "delete_cmd_prefix": "rm(",
     "library": "var_list.r",
     "varRefreshCmd": "cat(var_dic_list()) "
    }
   },
   "oldHeight": 641,
   "position": {
    "height": "40px",
    "left": "1262px",
    "right": "20px",
    "top": "2px",
    "width": "648px"
   },
   "types_to_exclude": [
    "module",
    "function",
    "builtin_function_or_method",
    "instance",
    "_Feature"
   ],
   "varInspector_section_display": "none",
   "window_display": true
  }
 },
 "nbformat": 4,
 "nbformat_minor": 4
}
